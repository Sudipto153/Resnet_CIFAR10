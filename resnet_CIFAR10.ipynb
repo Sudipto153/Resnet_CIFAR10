{
 "cells": [
  {
   "cell_type": "code",
   "execution_count": 1,
   "metadata": {},
   "outputs": [
    {
     "data": {
      "text/plain": [
       "<torch.autograd.grad_mode.set_grad_enabled at 0x2cbc9109748>"
      ]
     },
     "execution_count": 1,
     "metadata": {},
     "output_type": "execute_result"
    }
   ],
   "source": [
    "import torch\n",
    "import torch.nn as nn\n",
    "import torch.nn.functional as F\n",
    "import torch.optim as optim\n",
    "import torchvision\n",
    "import torchvision.transforms as transforms\n",
    "\n",
    "import pandas as pd\n",
    "import numpy as np\n",
    "from collections import OrderedDict\n",
    "\n",
    "from loader_splitter import*\n",
    "from utils import*\n",
    "\n",
    "torch.set_grad_enabled(True)"
   ]
  },
  {
   "cell_type": "code",
   "execution_count": 2,
   "metadata": {},
   "outputs": [
    {
     "name": "stdout",
     "output_type": "stream",
     "text": [
      "Files already downloaded and verified\n",
      "Files already downloaded and verified\n"
     ]
    }
   ],
   "source": [
    "train_loader, dev_loader = get_data_loaders(\n",
    "                                        root_dir = './datasets',\n",
    "                                        batch_size = 128,\n",
    "                                        augmented = True)"
   ]
  },
  {
   "cell_type": "code",
   "execution_count": 3,
   "metadata": {},
   "outputs": [],
   "source": [
    "class Network(nn.Module):\n",
    "    def __init__(self):\n",
    "        super(Network, self).__init__()\n",
    "        \n",
    "        def cnn_block(self, channels, kernels, strides, block, stage):\n",
    "            layers_id = OrderedDict([\n",
    "                (('conv'+block+str(stage)), nn.Conv2d(in_channels=channels[0], out_channels=channels[1], kernel_size=kernels[0], stride=strides[0], padding=1)),\n",
    "                (('bn'+block+str(stage)), nn.BatchNorm2d(channels[1])),\n",
    "                (('relu'+block+str(stage)), nn.ReLU(inplace = True)),\n",
    "\n",
    "                (('conv'+block+str(stage+1)), nn.Conv2d(in_channels=channels[1], out_channels=channels[2], kernel_size=kernels[1], stride=strides[1], padding=1)),\n",
    "                (('bn'+block+str(stage+1)), nn.BatchNorm2d(channels[2])),\n",
    "                (('relu'+block+str(stage+1)), nn.ReLU(inplace = True)),\n",
    "\n",
    "                (('conv'+block+str(stage+2)), nn.Conv2d(in_channels=channels[2], out_channels=channels[3], kernel_size=kernels[2], stride=strides[2], padding=1)),\n",
    "                (('bn'+block+str(stage+2)), nn.BatchNorm2d(channels[3]))\n",
    "            ]) \n",
    "            return nn.Sequential(layers_id)\n",
    "        \n",
    "        store_size = 16\n",
    "        def calc_filter_size(size, filters, strides, pad):\n",
    "            in_size = size\n",
    "            size = ((size - filters[0] + 4)/strides[0]) + 1\n",
    "            for i in range(1, len(filters)):\n",
    "                size = ((size - filters[i] + 2)/strides[i]) + 1\n",
    "            filter_size = in_size + 2*pad - (size - 1)*2\n",
    "            global store_size\n",
    "            store_size = size\n",
    "            \n",
    "            return int(filter_size)\n",
    "        \n",
    "        kernels = [3,3,3]\n",
    "        strides = [2,1,1]\n",
    "        \n",
    "        self.pre_conv = nn.Conv2d(in_channels=3, out_channels=32, kernel_size=3, padding=1)\n",
    "        self.pre_bn = nn.BatchNorm2d(32)\n",
    "        \n",
    "        self.cnn1 = cnn_block(self, channels = [32,32,64,64], kernels = kernels, strides=strides, block = '1', stage = 1)\n",
    "        self.res1 = nn.Sequential(nn.Conv2d(in_channels = 32, out_channels = 64, kernel_size = calc_filter_size(store_size, kernels, strides, 2), padding = 1, stride = 2),\n",
    "                                    nn.BatchNorm2d(64))\n",
    "        \n",
    "        self.cnn2 = cnn_block(self, channels = [64,128,128,256], kernels = kernels, strides=strides, block = '2', stage = 1)\n",
    "        self.res2 = nn.Sequential(nn.Conv2d(in_channels = 64, out_channels = 256, kernel_size = calc_filter_size(store_size, kernels, strides, 1), padding = 0, stride = 2),\n",
    "                                    nn.BatchNorm2d(256))\n",
    "        \n",
    "        self.cnn3 = cnn_block(self, channels = [256,512,512,1024], kernels = kernels, strides=strides, block = '3', stage = 1)\n",
    "        self.res3 = nn.Sequential(nn.Conv2d(in_channels = 256, out_channels = 1024, kernel_size = calc_filter_size(store_size, kernels, strides, 2), padding = 1, stride = 2),\n",
    "                                    nn.BatchNorm2d(1024))\n",
    "        \n",
    "        \n",
    "        linear_layers = OrderedDict([\n",
    "            ('avgpool', nn.AvgPool2d(kernel_size = 2)),\n",
    "            ('flatten', nn.Flatten(start_dim = 1)),\n",
    "            \n",
    "            ('fc1', nn.Linear(in_features = 1024, out_features = 512)),\n",
    "            ('Lrelu1', nn.ReLU(inplace = True)),\n",
    "            \n",
    "            ('fc2', nn.Linear(in_features = 512, out_features = 256)),\n",
    "            ('Lrelu2', nn.ReLU(inplace = True)),\n",
    "            \n",
    "            ('fc3', nn.Linear(in_features = 256, out_features = 60)),\n",
    "            ('Lrelu3', nn.ReLU(inplace = True)),\n",
    "            ('out', nn.Linear(in_features = 60, out_features = 10))\n",
    "        ])\n",
    "        self.linear = nn.Sequential(linear_layers)\n",
    "        \n",
    "        \n",
    "    def forward(self, t):\n",
    "        t = F.relu(self.pre_bn(self.pre_conv(t)))\n",
    "        t = F.max_pool2d(t, kernel_size = 2, stride = 2)\n",
    "    \n",
    "        x = self.cnn1(t)\n",
    "        x += self.res1(t)\n",
    "        x = F.relu(x)\n",
    "        #x = F.dropout(x, p = 0.25)\n",
    "        \n",
    "        t_conv2 = self.res2(x)\n",
    "        x = self.cnn2(x)\n",
    "        x += t_conv2\n",
    "        x = F.relu(x)\n",
    "        #x = F.dropout(x, p = 0.25)\n",
    "        \n",
    "        t_conv3 = self.res3(x)\n",
    "        x = self.cnn3(x)\n",
    "        x += t_conv3\n",
    "        x = F.relu(x)\n",
    "        \n",
    "        x = self.linear(x)\n",
    "        \n",
    "        return x\n",
    "        "
   ]
  },
  {
   "cell_type": "code",
   "execution_count": null,
   "metadata": {},
   "outputs": [],
   "source": []
  },
  {
   "cell_type": "code",
   "execution_count": null,
   "metadata": {},
   "outputs": [],
   "source": [
    "## to load previously trained network for retraining\n",
    "\n",
    "PATH_load = 'networks/network.pt'\n",
    "network_in = Network().cuda()\n",
    "network_in.load_state_dict(torch.load(PATH_load))\n",
    "network_in.eval()"
   ]
  },
  {
   "cell_type": "code",
   "execution_count": null,
   "metadata": {},
   "outputs": [],
   "source": []
  },
  {
   "cell_type": "code",
   "execution_count": null,
   "metadata": {},
   "outputs": [],
   "source": [
    "## training the network\n",
    "\n",
    "params = OrderedDict(\n",
    "    lr = [0.0009],\n",
    "    device = ['cuda']\n",
    ")\n",
    "\n",
    "num_epochs = 200\n",
    "decay_rate = 0.96\n",
    "m = RunManager()\n",
    "for run in RunBuilder.get_runs(params):\n",
    "\n",
    "    device = torch.device(run.device)\n",
    "    network = Network().to(device)\n",
    "    #network = network_in\n",
    "    loader = train_loader\n",
    "    optimizer = optim.Adam(network.parameters(), lr = run.lr)\n",
    "    scheduler = optim.lr_scheduler.ExponentialLR(optimizer, gamma = decay_rate)\n",
    "\n",
    "    m.begin_run(run, network, loader)\n",
    "    for epoch in range(num_epochs):\n",
    "        m.begin_epoch()\n",
    "        \n",
    "        for batch in loader:        ## get batch\n",
    "            \n",
    "            images = batch[0].to(device)\n",
    "            labels = batch[1].to(device)\n",
    "            preds = network(images)  ## pass batch\n",
    "            loss = F.cross_entropy(preds, labels)   ## calculate loss\n",
    "\n",
    "            optimizer.zero_grad()\n",
    "            loss.backward()  ## calculate gradients\n",
    "            optimizer.step()  #update weights\n",
    "            \n",
    "            m.track_loss(loss)\n",
    "            m.track_num_correct(preds, labels)\n",
    "        \n",
    "        m.end_epoch()\n",
    "        scheduler.step()\n",
    "    \n",
    "    m.end_run()\n",
    "\n",
    "m.save('results')"
   ]
  },
  {
   "cell_type": "code",
   "execution_count": null,
   "metadata": {},
   "outputs": [],
   "source": []
  },
  {
   "cell_type": "code",
   "execution_count": 5,
   "metadata": {},
   "outputs": [],
   "source": [
    "## saving\n",
    "PATH = 'networks/network.pt'\n",
    "torch.save(network.state_dict(), PATH)"
   ]
  },
  {
   "cell_type": "code",
   "execution_count": null,
   "metadata": {},
   "outputs": [],
   "source": []
  },
  {
   "cell_type": "code",
   "execution_count": 302,
   "metadata": {},
   "outputs": [
    {
     "name": "stdout",
     "output_type": "stream",
     "text": [
      "5319.5225830078125\n",
      "accuracy: 0.8630859375\n"
     ]
    }
   ],
   "source": [
    "## dev_set_testing\n",
    "PATH_dev = 'networks/network.pt'\n",
    "net = Network().cuda()\n",
    "net.load_state_dict(torch.load(PATH_dev))\n",
    "net.eval()\n",
    "\n",
    "##net = network\n",
    "device_test = torch.device('cuda')\n",
    "total_loss = 0\n",
    "total_correct = 0\n",
    "\n",
    "for batch_test in dev_loader:\n",
    "    \n",
    "    images = batch_test[0].to(device_test)\n",
    "    labels = batch_test[1].to(device_test)\n",
    "    preds_test = net(images)  ## pass batch\n",
    "    loss_test = F.cross_entropy(preds_test, labels) \n",
    "    \n",
    "    total_loss += loss_test.item()*dev_loader.batch_size\n",
    "    total_correct += preds_test.argmax(dim = 1).eq(labels).sum().item()\n",
    "    \n",
    "print(total_loss)\n",
    "print('accuracy:', total_correct/(len(dev_loader)*dev_loader.batch_size))"
   ]
  },
  {
   "cell_type": "code",
   "execution_count": null,
   "metadata": {},
   "outputs": [],
   "source": []
  },
  {
   "cell_type": "code",
   "execution_count": 318,
   "metadata": {},
   "outputs": [
    {
     "data": {
      "text/plain": [
       "11917566"
      ]
     },
     "execution_count": 318,
     "metadata": {},
     "output_type": "execute_result"
    }
   ],
   "source": [
    "## Number of parameters\n",
    "total_params = sum(p.numel() for p in network.parameters())\n",
    "total_params"
   ]
  },
  {
   "cell_type": "code",
   "execution_count": null,
   "metadata": {},
   "outputs": [],
   "source": []
  },
  {
   "cell_type": "code",
   "execution_count": 303,
   "metadata": {},
   "outputs": [],
   "source": [
    "classes = ['airplane','automobile','bird','cat','deer','dog','frog','horse','ship','truck']\n"
   ]
  },
  {
   "cell_type": "code",
   "execution_count": 307,
   "metadata": {},
   "outputs": [
    {
     "name": "stdout",
     "output_type": "stream",
     "text": [
      "Files already downloaded and verified\n"
     ]
    }
   ],
   "source": [
    "## test set loading\n",
    "\n",
    "test_loader, classes = get_test_loader(\n",
    "                       root_dir = './datasets',\n",
    "                       batch_size = 128,\n",
    "                       augmented = False)"
   ]
  },
  {
   "cell_type": "code",
   "execution_count": 308,
   "metadata": {},
   "outputs": [
    {
     "name": "stdout",
     "output_type": "stream",
     "text": [
      "12102.092906951904\n",
      "accuracy: 0.8569026898734177\n"
     ]
    }
   ],
   "source": [
    "## testing\n",
    "PATH_test = 'networks/network.pt'\n",
    "nett = Network().cuda()\n",
    "nett.load_state_dict(torch.load(PATH_test))\n",
    "nett.eval()\n",
    "\n",
    "device_t = torch.device('cuda')\n",
    "total_loss = 0\n",
    "total_correct = 0\n",
    "\n",
    "for batch_t in test_loader:\n",
    "    \n",
    "    images = batch_t[0].to(device_t)\n",
    "    labels = batch_t[1].to(device_t)\n",
    "    preds_t = nett(images)  ## pass batch\n",
    "    loss_t = F.cross_entropy(preds_t, labels) \n",
    "    \n",
    "    total_loss += loss_t.item()*test_loader.batch_size\n",
    "    total_correct += preds_t.argmax(dim = 1).eq(labels).sum().item()\n",
    "    \n",
    "print(total_loss)\n",
    "print('accuracy:', total_correct/(len(test_loader)*test_loader.batch_size))"
   ]
  },
  {
   "cell_type": "code",
   "execution_count": null,
   "metadata": {},
   "outputs": [],
   "source": []
  },
  {
   "cell_type": "code",
   "execution_count": 316,
   "metadata": {},
   "outputs": [
    {
     "name": "stdout",
     "output_type": "stream",
     "text": [
      "ship\n"
     ]
    },
    {
     "data": {
      "image/png": "[encoded data removed]",
      "text/plain": [
       "<PIL.JpegImagePlugin.JpegImageFile image mode=RGB size=225x225 at 0x2CB93304188>"
      ]
     },
     "execution_count": 316,
     "metadata": {},
     "output_type": "execute_result"
    }
   ],
   "source": [
    "## test examples\n",
    "from PIL import Image\n",
    "\n",
    "PATH_ex = 'networks/network.pt'\n",
    "netx = Network().cuda()\n",
    "netx.load_state_dict(torch.load(PATH_ex))\n",
    "netx.eval()\n",
    "\n",
    "\n",
    "imsize = 32\n",
    "loader_ex = transforms.Compose([\n",
    "    transforms.Resize(imsize),  # scale imported image\n",
    "    transforms.ToTensor()])\n",
    "\n",
    "image = Image.open('images/image3.jpg')   ## image directory goes here __\n",
    "#x = TF.to_grayscale(image)\n",
    "x = loader_ex(image)\n",
    "idx = netx(x.unsqueeze(0).cuda()).argmax(dim = 1)[0]\n",
    "print(classes[idx])\n",
    "image"
   ]
  },
  {
   "cell_type": "code",
   "execution_count": null,
   "metadata": {},
   "outputs": [],
   "source": []
  }
 ],
 "metadata": {
  "kernelspec": {
   "display_name": "Python 3",
   "language": "python",
   "name": "python3"
  },
  "language_info": {
   "codemirror_mode": {
    "name": "ipython",
    "version": 3
   },
   "file_extension": ".py",
   "mimetype": "text/x-python",
   "name": "python",
   "nbconvert_exporter": "python",
   "pygments_lexer": "ipython3",
   "version": "3.7.4"
  }
 },
 "nbformat": 4,
 "nbformat_minor": 2
}
